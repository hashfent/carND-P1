{
 "cells": [
  {
   "cell_type": "markdown",
   "metadata": {},
   "source": [
    "# ***Project 1***\n",
    "\n",
    "# **Finding Lane Lines on the Road** \n",
    "\n",
    "\n",
    "---\n",
    "\n",
    "The goals of this project are:\n",
    "* To make a pipeline that finds lane lines on the road\n",
    "* To reflect on my work in a written report\n",
    "\n",
    "---\n",
    "In this project I have developed a lane detection pipeline. The pipeline has been implemented in the draw_line function of the attached Ipython notebook, P1.ipynb. It reads in an input image, detectes the lane line and draws the detected lane line overalyed on the original image. \n",
    "Shown below is an example of an input image and an output image from the pipeline.  \n",
    "\n",
    "\n",
    "<img src=\"test_images/solidWhiteCurve.jpg\" alt=\"solidWhiteCurve\" style=\"width: 300px;\"/>\n",
    "<img src=\"images_output/test_images/solidWhiteCurve_processed.jpg\" alt=\"solidWhiteCurve_processed\" style=\"width: 300px;\"/>\n",
    "\n",
    "### Reflection\n",
    "\n",
    "### 1. Describe yourpipeline. As part of the description, explain how you modified the draw_lines() function.\n",
    "\n",
    "My pipe line consists of the following steps:\n",
    "\n",
    "-  Converting the input image to grayscale\n",
    "-  Applying a Gaussian blur to the grayscale image\n",
    "-  Applying Canny edge detection\n",
    "-  Masking the image so that only the region of interest is processed\n",
    "-  Identifying the lanes by using the Hough transform\n",
    "-  Calculating the average slope of the lane line \n",
    "-  By using the calculated slope and by extrapolating the end points, the lane line is ploted\n",
    "\n",
    "\n",
    "### 2. Identify potential shortcomings with your current pipeline\n",
    "\n",
    "\n",
    "One potential shortcoming is that the lane recognition is far from automatic. Because so many tweaks to the paramteres and vertices were\n",
    "required.\n",
    "Also my pipeline does not work quite well when the lanes have curvatures.\n",
    "\n",
    "\n",
    "### 3. Suggest possible improvements to your pipeline\n",
    "\n",
    "A possible improvement would be to use multiple connected line segments instead of one single line to represent the lane.\n"
   ]
  },
  {
   "cell_type": "code",
   "execution_count": null,
   "metadata": {
    "collapsed": true
   },
   "outputs": [],
   "source": []
  }
 ],
 "metadata": {
  "kernelspec": {
   "display_name": "Python 3",
   "language": "python",
   "name": "python3"
  },
  "language_info": {
   "codemirror_mode": {
    "name": "ipython",
    "version": 3
   },
   "file_extension": ".py",
   "mimetype": "text/x-python",
   "name": "python",
   "nbconvert_exporter": "python",
   "pygments_lexer": "ipython3",
   "version": "3.6.2"
  }
 },
 "nbformat": 4,
 "nbformat_minor": 2
}
